{
 "cells": [
  {
   "cell_type": "code",
   "execution_count": 233,
   "metadata": {},
   "outputs": [],
   "source": [
    "import bn256"
   ]
  },
  {
   "cell_type": "code",
   "execution_count": 234,
   "metadata": {},
   "outputs": [],
   "source": [
    "import random\n"
   ]
  },
  {
   "cell_type": "code",
   "execution_count": 235,
   "metadata": {},
   "outputs": [],
   "source": [
    "r1 = random.randrange (2, bn256.order)"
   ]
  },
  {
   "cell_type": "code",
   "execution_count": 236,
   "metadata": {},
   "outputs": [
    {
     "data": {
      "text/plain": [
       "47414070615153900421537600817943137430118849346080949136700491978308726405123"
      ]
     },
     "execution_count": 236,
     "metadata": {},
     "output_type": "execute_result"
    }
   ],
   "source": [
    "r1"
   ]
  },
  {
   "cell_type": "code",
   "execution_count": 198,
   "metadata": {},
   "outputs": [],
   "source": [
    "r2 = random.randrange (2, bn256.order)\n"
   ]
  },
  {
   "cell_type": "code",
   "execution_count": 199,
   "metadata": {},
   "outputs": [
    {
     "data": {
      "text/plain": [
       "5977416730544141702895518583696689285696655892750611364315879539143667929649"
      ]
     },
     "execution_count": 199,
     "metadata": {},
     "output_type": "execute_result"
    }
   ],
   "source": [
    "r2"
   ]
  },
  {
   "cell_type": "code",
   "execution_count": 200,
   "metadata": {},
   "outputs": [],
   "source": [
    "r3 = random.randrange (2, bn256.order)\n"
   ]
  },
  {
   "cell_type": "code",
   "execution_count": 201,
   "metadata": {},
   "outputs": [
    {
     "data": {
      "text/plain": [
       "46674455532432175907436940575904652471953213475760945629126878644916669369413"
      ]
     },
     "execution_count": 201,
     "metadata": {},
     "output_type": "execute_result"
    }
   ],
   "source": [
    "r3"
   ]
  },
  {
   "cell_type": "code",
   "execution_count": 202,
   "metadata": {},
   "outputs": [],
   "source": [
    "G1 = bn256.curve_G"
   ]
  },
  {
   "cell_type": "code",
   "execution_count": 203,
   "metadata": {},
   "outputs": [
    {
     "data": {
      "text/plain": [
       "(1, 65000549695646603732796438742359905742825358107623003571877145026864184071781)"
      ]
     },
     "execution_count": 203,
     "metadata": {},
     "output_type": "execute_result"
    }
   ],
   "source": [
    "G1"
   ]
  },
  {
   "cell_type": "code",
   "execution_count": 204,
   "metadata": {},
   "outputs": [],
   "source": [
    "G2 = bn256.twist_G"
   ]
  },
  {
   "cell_type": "code",
   "execution_count": 205,
   "metadata": {},
   "outputs": [
    {
     "data": {
      "text/plain": [
       "((21167961636542580255011770066570541300993051739349375019639421053990175267184,64746500191241794695844075326670126197795977525365406531717464316923369116492), (20666913350058776956210519119118544732556678129809273996262322366050359951122,17778617556404439934652658462602675281523610326338642107814333856843981424549))"
      ]
     },
     "execution_count": 205,
     "metadata": {},
     "output_type": "execute_result"
    }
   ],
   "source": [
    "G2"
   ]
  },
  {
   "cell_type": "code",
   "execution_count": 206,
   "metadata": {},
   "outputs": [],
   "source": [
    "T1 = G1.scalar_mul(r1)"
   ]
  },
  {
   "cell_type": "code",
   "execution_count": 207,
   "metadata": {},
   "outputs": [
    {
     "data": {
      "text/plain": [
       "(33588426018643938825904620269978842601061410369290519605387617470090994943171, 51514426812337858313307701077355260043181098987943062221552978406464135134473)"
      ]
     },
     "execution_count": 207,
     "metadata": {},
     "output_type": "execute_result"
    }
   ],
   "source": [
    "T1"
   ]
  },
  {
   "cell_type": "code",
   "execution_count": 208,
   "metadata": {},
   "outputs": [],
   "source": [
    "T2 = G1.scalar_mul(r2)"
   ]
  },
  {
   "cell_type": "code",
   "execution_count": 209,
   "metadata": {},
   "outputs": [
    {
     "data": {
      "text/plain": [
       "(7123880340056043201087589128396229819949396356874222437942748261163231992067, 53479407629455533907041341556030273331979730410395791809530291500740655183209)"
      ]
     },
     "execution_count": 209,
     "metadata": {},
     "output_type": "execute_result"
    }
   ],
   "source": [
    "T2"
   ]
  },
  {
   "cell_type": "code",
   "execution_count": 210,
   "metadata": {},
   "outputs": [],
   "source": [
    "T3 = G1.scalar_mul(r3)"
   ]
  },
  {
   "cell_type": "code",
   "execution_count": 211,
   "metadata": {},
   "outputs": [
    {
     "data": {
      "text/plain": [
       "(36702794790920608114235877032115782678283467204530997576230861052383448525687, 51568129905135748859642066896205192936248783647705728958116025869604039927061)"
      ]
     },
     "execution_count": 211,
     "metadata": {},
     "output_type": "execute_result"
    }
   ],
   "source": [
    "T3"
   ]
  },
  {
   "cell_type": "code",
   "execution_count": 212,
   "metadata": {},
   "outputs": [
    {
     "data": {
      "text/plain": [
       "bn256.curve_point"
      ]
     },
     "execution_count": 212,
     "metadata": {},
     "output_type": "execute_result"
    }
   ],
   "source": [
    "type(T3)"
   ]
  },
  {
   "cell_type": "code",
   "execution_count": 213,
   "metadata": {},
   "outputs": [],
   "source": [
    "object_one = bn256.gfp_1(T3.x.value())\n",
    "object_two = bn256.gfp_1(-1*T3.y.value())"
   ]
  },
  {
   "cell_type": "code",
   "execution_count": 214,
   "metadata": {},
   "outputs": [
    {
     "name": "stdout",
     "output_type": "stream",
     "text": [
      "36702794790920608114235877032115782678283467204530997576230861052383448525687 <class 'bn256.gfp_1'>\n",
      "13432419790510854873154371846154712806576574459917274613761119157260144144722 <class 'bn256.gfp_1'>\n"
     ]
    }
   ],
   "source": [
    "print(object_one, type(object_one))\n",
    "print(object_two, type(object_two))"
   ]
  },
  {
   "cell_type": "code",
   "execution_count": 215,
   "metadata": {},
   "outputs": [],
   "source": [
    "minus_T3 = bn256.curve_point(T3.x, object_two)"
   ]
  },
  {
   "cell_type": "code",
   "execution_count": 216,
   "metadata": {},
   "outputs": [
    {
     "data": {
      "text/plain": [
       "(36702794790920608114235877032115782678283467204530997576230861052383448525687, 13432419790510854873154371846154712806576574459917274613761119157260144144722)"
      ]
     },
     "execution_count": 216,
     "metadata": {},
     "output_type": "execute_result"
    }
   ],
   "source": [
    "minus_T3"
   ]
  },
  {
   "cell_type": "code",
   "execution_count": 217,
   "metadata": {},
   "outputs": [],
   "source": [
    "TP = (T1.add(T2)).add(minus_T3)"
   ]
  },
  {
   "cell_type": "code",
   "execution_count": 218,
   "metadata": {},
   "outputs": [
    {
     "data": {
      "text/plain": [
       "(1385510266809533517314599939785081656177455135980770321951372442023636167970, 21677866054444127669380168090566463023031558289152080223030395902544840188332)"
      ]
     },
     "execution_count": 218,
     "metadata": {},
     "output_type": "execute_result"
    }
   ],
   "source": [
    "TP"
   ]
  },
  {
   "cell_type": "code",
   "execution_count": 219,
   "metadata": {},
   "outputs": [],
   "source": [
    "T4 = G2.scalar_mul(r1)"
   ]
  },
  {
   "cell_type": "code",
   "execution_count": 220,
   "metadata": {},
   "outputs": [
    {
     "data": {
      "text/plain": [
       "((37956163431130083663914246281145602531677164432847481417500280397057680424595,18811485445066929098883030082360408169334521886589567309643399178058894634694), (19936114493527346714537303509958986103396268234309014897357595323056108171917,12491629093087486389027899323188408309583367358767905141996139039088988843555))"
      ]
     },
     "execution_count": 220,
     "metadata": {},
     "output_type": "execute_result"
    }
   ],
   "source": [
    "T4"
   ]
  },
  {
   "cell_type": "code",
   "execution_count": 221,
   "metadata": {},
   "outputs": [],
   "source": [
    "T5 = G2.scalar_mul(r2)\n"
   ]
  },
  {
   "cell_type": "code",
   "execution_count": 222,
   "metadata": {},
   "outputs": [
    {
     "data": {
      "text/plain": [
       "((18555278666854768538296747280932676833740160406411810267791743826847705208439,51596441904784250195157790711018775681549505097159486085838301302754812116054), (5631675313296166106844565774403334004138889874728335363975133315009300553471,35246609930833777363731599709883510556852810966349653953777891144472484258973))"
      ]
     },
     "execution_count": 222,
     "metadata": {},
     "output_type": "execute_result"
    }
   ],
   "source": [
    "T5"
   ]
  },
  {
   "cell_type": "code",
   "execution_count": 223,
   "metadata": {},
   "outputs": [],
   "source": [
    "T6 = G2.scalar_mul(r3)"
   ]
  },
  {
   "cell_type": "code",
   "execution_count": 224,
   "metadata": {},
   "outputs": [
    {
     "data": {
      "text/plain": [
       "((17617700132979057172630802642992897797273502614096529332127451027334466049952,1178845532806006547009168452578277923730676762487304495888534217287124904611), (39164996919847606153482600192664628358925903790021217099332182243686741832521,34427692434609145998584666548272029708151955149348598765803693569344570731513))"
      ]
     },
     "execution_count": 224,
     "metadata": {},
     "output_type": "execute_result"
    }
   ],
   "source": [
    "T6"
   ]
  },
  {
   "cell_type": "code",
   "execution_count": 225,
   "metadata": {},
   "outputs": [],
   "source": [
    "#TQ = T4 + T5 - T6\n",
    "TQ = T4.add(T5).add(T6.scalar_mul(bn256.order - 1))"
   ]
  },
  {
   "cell_type": "code",
   "execution_count": 226,
   "metadata": {},
   "outputs": [
    {
     "data": {
      "text/plain": [
       "((49734986486105065687322076474868699542527009547454953438886484839237934696595,50033933514976279764854939672316163422201669268529926891397097976728515014512), (59480029277607273429257766216702362148100879571120396366903623963346534278469,30270457805031658163213880910128374902457651058390858088273346120824572306610))"
      ]
     },
     "execution_count": 226,
     "metadata": {},
     "output_type": "execute_result"
    }
   ],
   "source": [
    "TQ"
   ]
  },
  {
   "cell_type": "code",
   "execution_count": 227,
   "metadata": {},
   "outputs": [],
   "source": [
    "tf = r1 + r2 - r2"
   ]
  },
  {
   "cell_type": "code",
   "execution_count": 228,
   "metadata": {},
   "outputs": [
    {
     "data": {
      "text/plain": [
       "2928639832747424936148711908710032773997435587379770452033734326459084412309"
      ]
     },
     "execution_count": 228,
     "metadata": {},
     "output_type": "execute_result"
    }
   ],
   "source": [
    "tf"
   ]
  },
  {
   "cell_type": "code",
   "execution_count": 229,
   "metadata": {},
   "outputs": [],
   "source": [
    "E1 =  bn256.optimal_ate(G2, G1).exp(tf) "
   ]
  },
  {
   "cell_type": "code",
   "execution_count": 230,
   "metadata": {},
   "outputs": [
    {
     "data": {
      "text/plain": [
       "(((48517741270813629500407665972854687105267537433658459777860278944389491555673,8502391855292486080618835826658284474169201271089608030456547157625047127612),(691574792186091852259768163445471662141857631539881246196950329486551062913,9454979787096114943650221155590078043384292301247445697578945858229101245316),(43845771278566081923576566088701201559124568301431571757448443626008458679892,60422167730986221218958361814969061501090863530950721263427205759648753415576)),((46142298746711721550775577503464070443792873771628813601573755968776196506786,26518759248119702749536550398606894444262880202584852752049995344049466600154),(37948801079987678862279061228811211918932638091875157311050543890996157146997,23989344449222630194394615421709188532386057748759487515472690999046084349407),(17503188075862848876176033349256708287603078089063390297694472773817101260125,47444603882034567412976424027765688394901983428766924062000541832736560072768)))"
      ]
     },
     "execution_count": 230,
     "metadata": {},
     "output_type": "execute_result"
    }
   ],
   "source": [
    "E1"
   ]
  },
  {
   "cell_type": "code",
   "execution_count": 231,
   "metadata": {},
   "outputs": [],
   "source": [
    "E2 = bn256.optimal_ate(TQ, TP)"
   ]
  },
  {
   "cell_type": "code",
   "execution_count": 232,
   "metadata": {},
   "outputs": [
    {
     "data": {
      "text/plain": [
       "(((50361923407539179272827664132130891244774009570035183209241266875783533105471,34436476053863547804381491431061443894570020838757682394337652004135262346988),(40231470366392517260443743416819295515746974355841322866209947491006981010414,8526153735909241888271311440448775038712610899825094937005156229124569322379),(51750193489569492462308583816577895227676144582297834278113483962847633491136,43572730146971074348730054433538903745185214031850950686386990320859026374069)),((31472110008576180559871231435571628285790894619097849254370388192072569309098,46285629425313772593883380725761110790894252048361891393568109137783454077517),(21326997979223932457979593011385281966874686112863758545435664361737129580538,35623693075810430562536413292884806943423095246846792231358896099024504254128),(24391644503425962652008025875379334927717484413235464095967824826545280253236,26536921112204348819606783064065678437207287854514732084261551080088603314207)))"
      ]
     },
     "execution_count": 232,
     "metadata": {},
     "output_type": "execute_result"
    }
   ],
   "source": [
    "E2"
   ]
  }
 ],
 "metadata": {
  "kernelspec": {
   "display_name": "Python 3",
   "language": "python",
   "name": "python3"
  },
  "language_info": {
   "codemirror_mode": {
    "name": "ipython",
    "version": 3
   },
   "file_extension": ".py",
   "mimetype": "text/x-python",
   "name": "python",
   "nbconvert_exporter": "python",
   "pygments_lexer": "ipython3",
   "version": "3.7.3"
  }
 },
 "nbformat": 4,
 "nbformat_minor": 2
}
